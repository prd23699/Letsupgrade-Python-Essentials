{
 "cells": [
  {
   "cell_type": "markdown",
   "metadata": {},
   "source": [
    "# Bank Account\n",
    "\n",
    "\n"
   ]
  },
  {
   "cell_type": "code",
   "execution_count": 4,
   "metadata": {},
   "outputs": [],
   "source": [
    "class bankaccount():\n",
    "    def __init__(self,ownername,balance):\n",
    "        self.ownername = ownername\n",
    "        self.balance = balance\n",
    "        \n",
    "    def methode(self):   \n",
    "        if I == 1:\n",
    "            d = int(input(\"the deposite amount: \"))\n",
    "            total_balance = d+v.balance\n",
    "            print(\"your total account balance is: \",total_balance)\n",
    "        else:\n",
    "            w = int(input(\"the withdraw amount: \"))\n",
    "            if w <= v.balance:\n",
    "                total_balance =  v.balance - w\n",
    "                print(\"your available account balance is: \",total_balance)\n",
    "            else:\n",
    "                print(\"You have insufficient balance\")   \n",
    "    \n",
    "\n",
    "\n",
    "\n",
    "    "
   ]
  },
  {
   "cell_type": "code",
   "execution_count": 5,
   "metadata": {},
   "outputs": [
    {
     "name": "stdout",
     "output_type": "stream",
     "text": [
      "pradip\n",
      "8000\n",
      "for deposit type 1, for withdraw type 2 2\n",
      "the withdraw amount: 2000\n",
      "your available account balance is:  6000\n"
     ]
    }
   ],
   "source": [
    "v=bankaccount('pradip',8000) \n",
    "print(v.ownername)\n",
    "print(v.balance)\n",
    "I = int(input(\"for deposit type 1, for withdraw type 2 \"))\n",
    "v.methode()\n"
   ]
  },
  {
   "cell_type": "code",
   "execution_count": null,
   "metadata": {},
   "outputs": [],
   "source": []
  }
 ],
 "metadata": {
  "kernelspec": {
   "display_name": "Python 3",
   "language": "python",
   "name": "python3"
  },
  "language_info": {
   "codemirror_mode": {
    "name": "ipython",
    "version": 3
   },
   "file_extension": ".py",
   "mimetype": "text/x-python",
   "name": "python",
   "nbconvert_exporter": "python",
   "pygments_lexer": "ipython3",
   "version": "3.8.3"
  }
 },
 "nbformat": 4,
 "nbformat_minor": 4
}

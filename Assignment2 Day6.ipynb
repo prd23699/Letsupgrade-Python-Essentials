{
 "cells": [
  {
   "cell_type": "markdown",
   "metadata": {},
   "source": [
    "# Cone Class"
   ]
  },
  {
   "cell_type": "code",
   "execution_count": 12,
   "metadata": {},
   "outputs": [],
   "source": [
    "from math import sqrt,pi\n",
    "class cone:\n",
    "    def __init__(self,radius,height,):\n",
    "        self.radius = radius\n",
    "        self.height = height\n",
    "    def methodA(self):\n",
    "        print(\"volume: \",pi*(c.radius**2)*(c.height/3))\n",
    "        print(\"surface area of base: \",3.14*(self.radius**2))\n",
    "        print(\"surface area of side: \",3.14*c.radius*sqrt((self.radius**2)+(self.height**2)))\n",
    "        \n",
    "   \n",
    "        \n",
    "   "
   ]
  },
  {
   "cell_type": "code",
   "execution_count": 14,
   "metadata": {},
   "outputs": [
    {
     "name": "stdout",
     "output_type": "stream",
     "text": [
      "radius is:  40\n",
      "height is:  12\n",
      "volume:  20106.192982974677\n",
      "surface area of base:  5024.0\n",
      "surface area of side:  5245.209990076661\n"
     ]
    }
   ],
   "source": [
    "   \n",
    "c = cone(40,12)\n",
    "print(\"radius is: \",c.radius)\n",
    "print(\"height is: \",c.height)\n",
    "c.methodA()     \n",
    "        \n",
    "        \n"
   ]
  },
  {
   "cell_type": "code",
   "execution_count": null,
   "metadata": {},
   "outputs": [],
   "source": [
    "\n"
   ]
  },
  {
   "cell_type": "code",
   "execution_count": null,
   "metadata": {},
   "outputs": [],
   "source": []
  },
  {
   "cell_type": "code",
   "execution_count": null,
   "metadata": {},
   "outputs": [],
   "source": []
  },
  {
   "cell_type": "code",
   "execution_count": null,
   "metadata": {},
   "outputs": [],
   "source": []
  }
 ],
 "metadata": {
  "kernelspec": {
   "display_name": "Python 3",
   "language": "python",
   "name": "python3"
  },
  "language_info": {
   "codemirror_mode": {
    "name": "ipython",
    "version": 3
   },
   "file_extension": ".py",
   "mimetype": "text/x-python",
   "name": "python",
   "nbconvert_exporter": "python",
   "pygments_lexer": "ipython3",
   "version": "3.8.3"
  }
 },
 "nbformat": 4,
 "nbformat_minor": 4
}
